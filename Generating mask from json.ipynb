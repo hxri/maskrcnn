{
 "cells": [
  {
   "cell_type": "code",
   "execution_count": 1,
   "id": "entitled-hudson",
   "metadata": {
    "ExecuteTime": {
     "end_time": "2021-03-01T05:49:27.688970Z",
     "start_time": "2021-03-01T05:49:27.365919Z"
    }
   },
   "outputs": [
    {
     "name": "stdout",
     "output_type": "stream",
     "text": [
      "\n",
      "Dict size:  326\n",
      "Images saved: 326\n"
     ]
    }
   ],
   "source": [
    "import os\n",
    "import cv2\n",
    "import json\n",
    "import numpy as np \n",
    "\n",
    "source_folder = os.path.join(os.getcwd(), \"/Mask_RCNN/samples/karyo/dataset/train/\")\n",
    "json_path = \"/Mask_RCNN/samples/karyo/dataset/train/via_region_data.json\"                     # Relative to root directory\n",
    "count = 0                                           # Count of total images saved\n",
    "file_bbs = {}                                       # Dictionary containing polygon coordinates for mask\n",
    "MASK_WIDTH = 256                                    # Dimensions should match those of ground truth image\n",
    "MASK_HEIGHT = 256\n",
    "\n",
    "# Read JSON file\n",
    "with open(json_path) as f:\n",
    "  data = json.load(f)\n",
    "\n",
    "# Extract X and Y coordinates if available and update dictionary\n",
    "def add_to_dict(data, itr, key, count):\n",
    "    try:\n",
    "        x_points = data[itr][\"regions\"][count][\"shape_attributes\"][\"all_points_x\"]\n",
    "        y_points = data[itr][\"regions\"][count][\"shape_attributes\"][\"all_points_y\"]\n",
    "    except:\n",
    "        print(\"No BB. Skipping\", key)\n",
    "        return\n",
    "    \n",
    "    all_points = []\n",
    "    for i, x in enumerate(x_points):\n",
    "        all_points.append([x, y_points[i]])\n",
    "    \n",
    "    file_bbs[key] = all_points\n",
    "  \n",
    "for itr in data:\n",
    "    file_name_json = data[itr][\"filename\"]\n",
    "    sub_count = 0               # Contains count of masks for a single ground truth image\n",
    "    \n",
    "    if len(data[itr][\"regions\"]) > 1:\n",
    "        for _ in range(len(data[itr][\"regions\"])):\n",
    "            key = file_name_json[:-4] + \"*\" + str(sub_count+1)\n",
    "            add_to_dict(data, itr, key, sub_count)\n",
    "            sub_count += 1\n",
    "    else:\n",
    "        add_to_dict(data, itr, file_name_json[:-4], 0)\n",
    "\n",
    "\t\t\t\n",
    "print(\"\\nDict size: \", len(file_bbs))\n",
    "\n",
    "for file_name in os.listdir(source_folder):\n",
    "    to_save_folder = os.path.join(source_folder, file_name[:-4])\n",
    "    image_folder = os.path.join(to_save_folder, \"images\")\n",
    "    mask_folder = os.path.join(to_save_folder, \"masks\")\n",
    "    curr_img = os.path.join(source_folder, file_name)\n",
    "    \n",
    "    # make folders and copy image to new location\n",
    "    os.mkdir(to_save_folder)\n",
    "    os.mkdir(image_folder)\n",
    "    os.mkdir(mask_folder)\n",
    "    os.rename(curr_img, os.path.join(image_folder, file_name))\n",
    "        \n",
    "# For each entry in dictionary, generate mask and save in correponding \n",
    "# folder\n",
    "for itr in file_bbs:\n",
    "    num_masks = itr.split(\"*\")\n",
    "    to_save_folder = os.path.join(source_folder, num_masks[0])\n",
    "    mask_folder = os.path.join(to_save_folder, \"masks\")\n",
    "    mask = np.zeros((MASK_WIDTH, MASK_HEIGHT))\n",
    "    try:\n",
    "        arr = np.array(file_bbs[itr])\n",
    "    except:\n",
    "        print(\"Not found:\", itr)\n",
    "        continue\n",
    "    count += 1\n",
    "    cv2.fillPoly(mask, [arr], color=(255))\n",
    "    \n",
    "    if len(num_masks) > 1:\n",
    "    \tcv2.imwrite(os.path.join(mask_folder, itr.replace(\"*\", \"_\") + \".png\") , mask)    \n",
    "    else:\n",
    "        cv2.imwrite(os.path.join(mask_folder, itr + \".png\") , mask)\n",
    "        \n",
    "print(\"Images saved:\", count)\n"
   ]
  },
  {
   "cell_type": "code",
   "execution_count": null,
   "id": "mighty-proportion",
   "metadata": {},
   "outputs": [],
   "source": []
  }
 ],
 "metadata": {
  "kernelspec": {
   "display_name": "Python 3",
   "language": "python",
   "name": "python3"
  },
  "language_info": {
   "codemirror_mode": {
    "name": "ipython",
    "version": 3
   },
   "file_extension": ".py",
   "mimetype": "text/x-python",
   "name": "python",
   "nbconvert_exporter": "python",
   "pygments_lexer": "ipython3",
   "version": "3.7.9"
  },
  "varInspector": {
   "cols": {
    "lenName": 16,
    "lenType": 16,
    "lenVar": 40
   },
   "kernels_config": {
    "python": {
     "delete_cmd_postfix": "",
     "delete_cmd_prefix": "del ",
     "library": "var_list.py",
     "varRefreshCmd": "print(var_dic_list())"
    },
    "r": {
     "delete_cmd_postfix": ") ",
     "delete_cmd_prefix": "rm(",
     "library": "var_list.r",
     "varRefreshCmd": "cat(var_dic_list()) "
    }
   },
   "types_to_exclude": [
    "module",
    "function",
    "builtin_function_or_method",
    "instance",
    "_Feature"
   ],
   "window_display": false
  }
 },
 "nbformat": 4,
 "nbformat_minor": 5
}
